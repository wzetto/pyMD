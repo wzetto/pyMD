{
 "cells": [
  {
   "cell_type": "code",
   "execution_count": 1,
   "metadata": {},
   "outputs": [],
   "source": [
    "import numpy as np\n",
    "import math\n",
    "import torch\n",
    "import matplotlib.pyplot as plt\n",
    "from IPython.display import clear_output\n",
    "import os\n",
    "from itertools import combinations\n",
    "from random import randrange\n",
    "\n",
    "def create_dir(directory):\n",
    "    if not os.path.exists(directory):\n",
    "        os.makedirs(directory)\n",
    "        print(\"Created Directory : \", directory)\n",
    "    else:\n",
    "        print(\"Directory already existed : \", directory)\n",
    "    return directory\n",
    "\n",
    "def abs_dis(a, b, target):\n",
    "    return abs(np.linalg.norm(np.array(a) - np.array(b)) - target)\n",
    "\n",
    "def supercell_gen(cell_num1, cell_num2):\n",
    "    atom_pos1 = cell_num1*2 + 1\n",
    "    atom_pos2 = cell_num2*2 + 1\n",
    "    zero_cell = np.zeros(((atom_pos1, atom_pos2)))\n",
    "    for i in range(atom_pos1):\n",
    "        for j in range(atom_pos2):\n",
    "            if i%2 == 1:\n",
    "                zero_cell[i][j] = abs(j%2)\n",
    "            elif i%2 == 0:\n",
    "                zero_cell[i][j] = 1 - abs(j%2)\n",
    "    return zero_cell"
   ]
  },
  {
   "cell_type": "code",
   "execution_count": 20,
   "metadata": {},
   "outputs": [
    {
     "data": {
      "text/plain": [
       "tensor([2.8284, 5.6569, 2.8284])"
      ]
     },
     "execution_count": 20,
     "metadata": {},
     "output_type": "execute_result"
    }
   ],
   "source": [
    "inp = torch.FloatTensor([[1,2],[3,4],[5,6]])\n",
    "ind_c = torch.combinations(torch.arange(inp.size(0)), r=2)\n",
    "inp_c = inp[ind_c]\n",
    "inp_res = inp_c[:, 1]-inp_c[:, 0]\n",
    "torch.norm(inp_res, dim=1)"
   ]
  },
  {
   "cell_type": "code",
   "execution_count": 17,
   "metadata": {},
   "outputs": [
    {
     "data": {
      "text/plain": [
       "tensor([[1., 2.],\n",
       "        [1., 2.],\n",
       "        [3., 4.]])"
      ]
     },
     "execution_count": 17,
     "metadata": {},
     "output_type": "execute_result"
    }
   ],
   "source": [
    "inp_c[:,0]"
   ]
  },
  {
   "cell_type": "code",
   "execution_count": 21,
   "metadata": {},
   "outputs": [
    {
     "ename": "TypeError",
     "evalue": "sqrt(): argument 'input' (position 1) must be Tensor, not int",
     "output_type": "error",
     "traceback": [
      "\u001b[0;31m---------------------------------------------------------------------------\u001b[0m",
      "\u001b[0;31mTypeError\u001b[0m                                 Traceback (most recent call last)",
      "\u001b[0;32m/tmp/ipykernel_14590/990606665.py\u001b[0m in \u001b[0;36m<module>\u001b[0;34m\u001b[0m\n\u001b[0;32m----> 1\u001b[0;31m \u001b[0mtorch\u001b[0m\u001b[0;34m.\u001b[0m\u001b[0mint\u001b[0m\u001b[0;34m(\u001b[0m\u001b[0mtorch\u001b[0m\u001b[0;34m.\u001b[0m\u001b[0msqrt\u001b[0m\u001b[0;34m(\u001b[0m\u001b[0;36m100\u001b[0m\u001b[0;34m)\u001b[0m\u001b[0;34m)\u001b[0m\u001b[0;34m\u001b[0m\u001b[0;34m\u001b[0m\u001b[0m\n\u001b[0m",
      "\u001b[0;31mTypeError\u001b[0m: sqrt(): argument 'input' (position 1) must be Tensor, not int"
     ]
    }
   ],
   "source": [
    "torch.int(torch.sqrt(100))"
   ]
  },
  {
   "cell_type": "code",
   "execution_count": 29,
   "metadata": {},
   "outputs": [
    {
     "data": {
      "image/png": "[encoded data removed]",
      "text/plain": [
       "<Figure size 432x288 with 1 Axes>"
      ]
     },
     "metadata": {
      "needs_background": "light"
     },
     "output_type": "display_data"
    },
    {
     "name": "stdout",
     "output_type": "stream",
     "text": [
      "2.7934954e-10\n"
     ]
    }
   ],
   "source": [
    "#*レナードジョーンズ\n",
    "def e_(epsilon, sigma, r):\n",
    "    return 4*epsilon*((sigma/r)**12 - (sigma/r)**6)\n",
    "\n",
    "epsilon = 7.545*1.380649e-23\n",
    "sigma = 2.49e-10 #*Angstorm -> meter\n",
    "r = torch.ones(1, requires_grad=True)\n",
    "with torch.no_grad():\n",
    "    r *= 1e-10\n",
    "alpha_optimizer = torch.optim.Adam([r], lr=1e-11)\n",
    "phi_list, r_list = [], []\n",
    "r_list.append(r.detach().numpy()[0])\n",
    "phi_list.append(e_(epsilon, sigma, r.detach().numpy()[0]))\n",
    "\n",
    "for i in range(100000):\n",
    "    r_loss = e_(epsilon, sigma, r)\n",
    "    alpha_optimizer.zero_grad()\n",
    "    r_loss.backward()\n",
    "    alpha_optimizer.step()\n",
    "    if i%10000==0 or i == 0:\n",
    "        clear_output(True)\n",
    "        r_list.append(r.detach().numpy()[0])\n",
    "        phi_list.append(r_loss.detach().numpy())\n",
    "        plt.plot(r_list, phi_list)\n",
    "        plt.show()\n",
    "\n",
    "print(r_list[-1])"
   ]
  },
  {
   "cell_type": "code",
   "execution_count": 2,
   "metadata": {},
   "outputs": [
    {
     "data": {
      "text/plain": [
       "array([[ 2.4464479 ,  2.30386771],\n",
       "       [ 1.36327971,  0.95785306],\n",
       "       [ 1.36327971,  0.95785306],\n",
       "       [ 2.37987058,  1.12415801],\n",
       "       [-0.03764879,  2.3969778 ]])"
      ]
     },
     "execution_count": 2,
     "metadata": {},
     "output_type": "execute_result"
    }
   ],
   "source": [
    "coord = []\n",
    "for j in range(3):\n",
    "    for k in range(3):\n",
    "        rand1 = np.random.rand()*0.5-1/4\n",
    "        rand2 = np.random.rand()*0.5-1/4\n",
    "        coord.append([1.15*j+rand1, 1.15*k+rand2])\n",
    "\n",
    "coord = np.array(coord)\n",
    "atom_ind = np.random.choice(9, 5)\n",
    "coord[atom_ind]"
   ]
  },
  {
   "cell_type": "code",
   "execution_count": 7,
   "metadata": {},
   "outputs": [
    {
     "data": {
      "text/plain": [
       "array([[ True, False,  True, False,  True],\n",
       "       [False,  True, False,  True, False],\n",
       "       [ True, False,  True, False,  True],\n",
       "       [False,  True, False,  True, False],\n",
       "       [ True, False,  True, False,  True]])"
      ]
     },
     "execution_count": 7,
     "metadata": {},
     "output_type": "execute_result"
    }
   ],
   "source": [
    "cell = supercell_gen(2,2)\n",
    "cell_t = np.array(cell, dtype=bool)\n",
    "coord = np.concatenate([np.where(cell_t)[0].reshape(-1,1),np.where(cell_t)[1].reshape(-1,1)], 1)*init_dis*np.sqrt(2)/2\n",
    "cell_t"
   ]
  },
  {
   "cell_type": "code",
   "execution_count": 107,
   "metadata": {},
   "outputs": [
    {
     "data": {
      "text/plain": [
       "<matplotlib.collections.PathCollection at 0x7f5e58e0da00>"
      ]
     },
     "execution_count": 107,
     "metadata": {},
     "output_type": "execute_result"
    },
    {
     "data": {
      "image/png": "[encoded data removed]",
      "text/plain": [
       "<Figure size 432x288 with 1 Axes>"
      ]
     },
     "metadata": {
      "needs_background": "light"
     },
     "output_type": "display_data"
    }
   ],
   "source": [
    "cell = supercell_gen(15, 15)\n",
    "cell_t = np.array(cell, dtype=bool)\n",
    "init_weight = np.array([math.sqrt(3)/2*init_dis, 1/2*init_dis])\n",
    "coord = np.concatenate([np.where(cell_t)[0].reshape(-1,1),\n",
    "                        np.where(cell_t)[1].reshape(-1,1)], 1)*init_weight\n",
    "\n",
    "plt.scatter(coord[:,0], coord[:,1])"
   ]
  },
  {
   "cell_type": "code",
   "execution_count": 117,
   "metadata": {},
   "outputs": [
    {
     "data": {
      "image/png": "[encoded data removed]",
      "text/plain": [
       "<Figure size 1440x432 with 3 Axes>"
      ]
     },
     "metadata": {
      "needs_background": "light"
     },
     "output_type": "display_data"
    },
    {
     "ename": "KeyboardInterrupt",
     "evalue": "",
     "output_type": "error",
     "traceback": [
      "\u001b[0;31m---------------------------------------------------------------------------\u001b[0m",
      "\u001b[0;31mKeyboardInterrupt\u001b[0m                         Traceback (most recent call last)",
      "\u001b[0;32m/tmp/ipykernel_976556/1971945485.py\u001b[0m in \u001b[0;36m<module>\u001b[0;34m\u001b[0m\n\u001b[1;32m    101\u001b[0m         \u001b[0;31m#*Nx2\u001b[0m\u001b[0;34m\u001b[0m\u001b[0;34m\u001b[0m\u001b[0m\n\u001b[1;32m    102\u001b[0m         \u001b[0ma_i\u001b[0m \u001b[0;34m=\u001b[0m \u001b[0;34m-\u001b[0m\u001b[0mr_grad\u001b[0m\u001b[0;34m.\u001b[0m\u001b[0mreshape\u001b[0m\u001b[0;34m(\u001b[0m\u001b[0;34m-\u001b[0m\u001b[0;36m1\u001b[0m\u001b[0;34m,\u001b[0m\u001b[0;36m1\u001b[0m\u001b[0;34m)\u001b[0m\u001b[0;34m*\u001b[0m\u001b[0;34m(\u001b[0m\u001b[0mneigh_atom\u001b[0m\u001b[0;34m-\u001b[0m\u001b[0matom\u001b[0m\u001b[0;34m)\u001b[0m\u001b[0;34m/\u001b[0m\u001b[0mdis_list\u001b[0m\u001b[0;34m.\u001b[0m\u001b[0mreshape\u001b[0m\u001b[0;34m(\u001b[0m\u001b[0;34m-\u001b[0m\u001b[0;36m1\u001b[0m\u001b[0;34m,\u001b[0m\u001b[0;36m1\u001b[0m\u001b[0;34m)\u001b[0m\u001b[0;34m/\u001b[0m\u001b[0mm_\u001b[0m\u001b[0;34m.\u001b[0m\u001b[0mreshape\u001b[0m\u001b[0;34m(\u001b[0m\u001b[0;34m-\u001b[0m\u001b[0;36m1\u001b[0m\u001b[0;34m,\u001b[0m\u001b[0;36m1\u001b[0m\u001b[0;34m)\u001b[0m\u001b[0;34m\u001b[0m\u001b[0;34m\u001b[0m\u001b[0m\n\u001b[0;32m--> 103\u001b[0;31m         \u001b[0ma_i\u001b[0m \u001b[0;34m=\u001b[0m \u001b[0mnp\u001b[0m\u001b[0;34m.\u001b[0m\u001b[0msum\u001b[0m\u001b[0;34m(\u001b[0m\u001b[0ma_i\u001b[0m\u001b[0;34m,\u001b[0m \u001b[0maxis\u001b[0m\u001b[0;34m=\u001b[0m\u001b[0;36m0\u001b[0m\u001b[0;34m)\u001b[0m\u001b[0;34m\u001b[0m\u001b[0;34m\u001b[0m\u001b[0m\n\u001b[0m\u001b[1;32m    104\u001b[0m         \u001b[0matom\u001b[0m \u001b[0;34m+=\u001b[0m \u001b[0mv_a\u001b[0m\u001b[0;34m[\u001b[0m\u001b[0matom_ind\u001b[0m\u001b[0;34m[\u001b[0m\u001b[0mind\u001b[0m\u001b[0;34m]\u001b[0m\u001b[0;34m]\u001b[0m\u001b[0;34m*\u001b[0m\u001b[0mdt\u001b[0m \u001b[0;34m+\u001b[0m \u001b[0;36m1\u001b[0m\u001b[0;34m/\u001b[0m\u001b[0;36m2\u001b[0m\u001b[0;34m*\u001b[0m\u001b[0ma_i\u001b[0m\u001b[0;34m*\u001b[0m\u001b[0mdt\u001b[0m\u001b[0;34m**\u001b[0m\u001b[0;36m2\u001b[0m\u001b[0;34m\u001b[0m\u001b[0;34m\u001b[0m\u001b[0m\n\u001b[1;32m    105\u001b[0m \u001b[0;34m\u001b[0m\u001b[0m\n",
      "\u001b[0;32m~/anaconda3/lib/python3.9/site-packages/numpy/core/overrides.py\u001b[0m in \u001b[0;36msum\u001b[0;34m(*args, **kwargs)\u001b[0m\n",
      "\u001b[0;32m~/anaconda3/lib/python3.9/site-packages/numpy/core/fromnumeric.py\u001b[0m in \u001b[0;36msum\u001b[0;34m(a, axis, dtype, out, keepdims, initial, where)\u001b[0m\n\u001b[1;32m   2296\u001b[0m         \u001b[0;32mreturn\u001b[0m \u001b[0mres\u001b[0m\u001b[0;34m\u001b[0m\u001b[0;34m\u001b[0m\u001b[0m\n\u001b[1;32m   2297\u001b[0m \u001b[0;34m\u001b[0m\u001b[0m\n\u001b[0;32m-> 2298\u001b[0;31m     return _wrapreduction(a, np.add, 'sum', axis, dtype, out, keepdims=keepdims,\n\u001b[0m\u001b[1;32m   2299\u001b[0m                           initial=initial, where=where)\n\u001b[1;32m   2300\u001b[0m \u001b[0;34m\u001b[0m\u001b[0m\n",
      "\u001b[0;32m~/anaconda3/lib/python3.9/site-packages/numpy/core/fromnumeric.py\u001b[0m in \u001b[0;36m_wrapreduction\u001b[0;34m(obj, ufunc, method, axis, dtype, out, **kwargs)\u001b[0m\n\u001b[1;32m     84\u001b[0m                 \u001b[0;32mreturn\u001b[0m \u001b[0mreduction\u001b[0m\u001b[0;34m(\u001b[0m\u001b[0maxis\u001b[0m\u001b[0;34m=\u001b[0m\u001b[0maxis\u001b[0m\u001b[0;34m,\u001b[0m \u001b[0mout\u001b[0m\u001b[0;34m=\u001b[0m\u001b[0mout\u001b[0m\u001b[0;34m,\u001b[0m \u001b[0;34m**\u001b[0m\u001b[0mpasskwargs\u001b[0m\u001b[0;34m)\u001b[0m\u001b[0;34m\u001b[0m\u001b[0;34m\u001b[0m\u001b[0m\n\u001b[1;32m     85\u001b[0m \u001b[0;34m\u001b[0m\u001b[0m\n\u001b[0;32m---> 86\u001b[0;31m     \u001b[0;32mreturn\u001b[0m \u001b[0mufunc\u001b[0m\u001b[0;34m.\u001b[0m\u001b[0mreduce\u001b[0m\u001b[0;34m(\u001b[0m\u001b[0mobj\u001b[0m\u001b[0;34m,\u001b[0m \u001b[0maxis\u001b[0m\u001b[0;34m,\u001b[0m \u001b[0mdtype\u001b[0m\u001b[0;34m,\u001b[0m \u001b[0mout\u001b[0m\u001b[0;34m,\u001b[0m \u001b[0;34m**\u001b[0m\u001b[0mpasskwargs\u001b[0m\u001b[0;34m)\u001b[0m\u001b[0;34m\u001b[0m\u001b[0;34m\u001b[0m\u001b[0m\n\u001b[0m\u001b[1;32m     87\u001b[0m \u001b[0;34m\u001b[0m\u001b[0m\n\u001b[1;32m     88\u001b[0m \u001b[0;34m\u001b[0m\u001b[0m\n",
      "\u001b[0;31mKeyboardInterrupt\u001b[0m: "
     ]
    }
   ],
   "source": [
    "#*Taking gradient of x, y coordinates in square cluster\n",
    "def e_(epsilon, sigma, r):\n",
    "    r_cut = 2**(1/6)*sigma\n",
    "    ind_exe = np.where(r > r_cut)[0]\n",
    "    phi = 4*epsilon*((sigma/r)**12 - (sigma/r)**6)\n",
    "    grad = 4*epsilon*(12/sigma*((sigma/r)**13) - 6/sigma*((sigma/r)**7))\n",
    "    grad[ind_exe[0]] = 0\n",
    "    # grad = np.clip(grad, None, 5)\n",
    "    return phi, grad\n",
    "\n",
    "#*Generating random distributed atoms in matrix\n",
    "k_b = 1.380649e-23\n",
    "x_extend, y_extend = 15, 15\n",
    "#*Define the 1NN distance based on DFT result\n",
    "init_dis = 4.1/math.sqrt(2)*1e-10\n",
    "\n",
    "cell = supercell_gen(x_extend, y_extend)\n",
    "cell_t = np.array(cell, dtype=bool)\n",
    "init_weight = np.array([math.sqrt(3)/2*init_dis, 1/2*init_dis])\n",
    "coord = np.concatenate([np.where(cell_t)[0].reshape(-1,1),\n",
    "                        np.where(cell_t)[1].reshape(-1,1)], 1)*init_weight\n",
    "atom_num = len(coord)\n",
    "# region = np.array(region)\n",
    "\n",
    "#*Set the boundary condition\n",
    "x_upper, x_lower = (x_extend+1/2)*init_dis*math.sqrt(3), -(1/2)*init_dis*math.sqrt(3)\n",
    "y_upper, y_lower = (y_extend+1/2)*init_dis, -(1/2)*init_dis\n",
    "x_region, y_region = (x_extend+1)*init_dis*math.sqrt(3), (y_extend+1)*init_dis\n",
    "\n",
    "#*Atom list\n",
    "len_cr = len(coord)//3+randrange(2)\n",
    "len_co = len(coord)//3+randrange(2)\n",
    "len_ni = len(coord) - len_cr - len_co\n",
    "\n",
    "ele_list = np.concatenate([\n",
    "    np.zeros(len_cr)+1, #*Cr\n",
    "    np.zeros(len_co),   #*Co\n",
    "    np.zeros(len_ni)-1, #*Ni\n",
    "], 0)\n",
    "np.random.shuffle(ele_list)\n",
    "\n",
    "ind_cr = np.where(ele_list == 1)[0]\n",
    "ind_co = np.where(ele_list == 0)[0]\n",
    "ind_ni = np.where(ele_list == -1)[0]\n",
    "\n",
    "sigma, epsilon, m = np.ones(len(coord)), np.ones(len(coord)), np.ones(len(coord))\n",
    "\n",
    "sigma[ind_cr] *= 2.69e-10\n",
    "sigma[ind_co] *= 2.559e-10\n",
    "sigma[ind_ni] *= 2.525e-10\n",
    "\n",
    "epsilon[ind_cr] *= 7.545*k_b\n",
    "epsilon[ind_co] *= 7.045*k_b\n",
    "epsilon[ind_ni] *= 7.548*k_b\n",
    "\n",
    "m[ind_cr] *= 52*1.6605e-27\n",
    "m[ind_co] *= 58.93*1.6605e-27\n",
    "m[ind_ni] *= 58.7*1.6605e-27\n",
    "\n",
    "#*Hyperparameter\n",
    "dt = 1e-16\n",
    "iter_time = 100000\n",
    "temp = 77\n",
    "alpha = 0.1\n",
    "#*Initialize the velocity\n",
    "v_a = np.random.rand(atom_num, 2)*np.sqrt(3*k_b*temp/m.reshape(-1,1))\n",
    "# v_a = np.zeros((atom_num, 2))\n",
    "phi_list, kin_list = [], []\n",
    "path = os.getcwd()\n",
    "date = 20221010_2\n",
    "path_new = path+f'/Buffer/{date}'\n",
    "create_dir(path_new)\n",
    "\n",
    "for iter in range(iter_time):\n",
    "    #*Randomly choose atoms for computation\n",
    "    atom_ind = np.random.choice(atom_num, atom_num//4, replace=False)\n",
    "    phi_sum = 0\n",
    "    for ind in range(len(atom_ind)):\n",
    "        atom = coord[atom_ind[ind]]\n",
    "        # bound = region[atom_ind[ind]]\n",
    "        #*Boundary condition\n",
    "        if atom[0] < x_lower:\n",
    "            atom[0] += x_region\n",
    "        elif atom[0] >= x_upper:\n",
    "            atom[0] -= x_region\n",
    "        if atom[1] < y_lower:\n",
    "            atom[1] += y_region\n",
    "        elif atom[1] >= y_upper:\n",
    "            atom[1] -= y_region\n",
    "\n",
    "        neigh_atom = np.delete(coord, atom_ind[ind], axis=0)\n",
    "        res_atom = neigh_atom-atom\n",
    "        dis_list = np.linalg.norm(neigh_atom-atom, axis=1)\n",
    "        #*Delete the extra epsilon and sigma\n",
    "        epsilon_ = np.delete(epsilon, atom_ind[ind])\n",
    "        sigma_ = np.delete(sigma, atom_ind[ind])\n",
    "        m_ = np.delete(m, atom_ind[ind])\n",
    "\n",
    "        r_phi, r_grad = e_(epsilon_, sigma_, dis_list)\n",
    "        #*Compute the new coords and v0.5\n",
    "        #*Nx2\n",
    "        a_i = -r_grad.reshape(-1,1)*(neigh_atom-atom)/dis_list.reshape(-1,1)/m_.reshape(-1,1)\n",
    "        a_i = np.sum(a_i, axis=0)\n",
    "        atom += v_a[atom_ind[ind]]*dt + 1/2*a_i*dt**2\n",
    "\n",
    "        v_a[atom_ind[ind]] += 1/2*a_i*dt\n",
    "        #*New Phi and v1\n",
    "        res_atom = neigh_atom-atom\n",
    "        dis_list = np.linalg.norm(neigh_atom-atom, axis=1)\n",
    "        r_phi, r_grad = e_(epsilon_, sigma_, dis_list)\n",
    "        a_i = -r_grad.reshape(-1,1)*(neigh_atom-atom)/dis_list.reshape(-1,1)/m_.reshape(-1,1)\n",
    "        a_i = np.sum(a_i, axis=0)\n",
    "        v_a[atom_ind[ind]] += 1/2*a_i*dt\n",
    "        coord[atom_ind[ind]] = atom\n",
    "        #*Normalization\n",
    "        v_a -= np.sum(v_a, axis=0)/len(v_a)\n",
    "        phi_sum += np.sum(r_phi)\n",
    "\n",
    "    kine_e = 1/2*np.sum(m.reshape(-1,1)*v_a**2)\n",
    "    phi_list.append(phi_sum)\n",
    "    kin_list.append(kine_e)\n",
    "\n",
    "    #*Adjusting the velocity under given temperature\n",
    "    if iter % 1000 == 0:\n",
    "        temp_now = 2*kine_e/3/(len(coord)-1)/k_b\n",
    "        s_adjust = np.sqrt((temp+(temp_now-temp)*alpha)/temp_now)\n",
    "        v_a *= s_adjust\n",
    "\n",
    "    if iter%(iter_time/10000)==0:\n",
    "        \n",
    "        clear_output(True)\n",
    "        fig, (ax1, ax2, ax3) = plt.subplots(1, 3, figsize=(20, 6))\n",
    "\n",
    "        ax1.scatter(coord[:,0][ind_cr], coord[:,1][ind_cr])\n",
    "        ax1.scatter(coord[:,0][ind_co], coord[:,1][ind_co])\n",
    "        ax1.scatter(coord[:,0][ind_ni], coord[:,1][ind_ni])\n",
    "        ax1.set_title(f'iter: {iter}')\n",
    "        ax1.set_xlim([-0.7e-9, 8.2e-9])\n",
    "        ax1.set_ylim([-0.5e-9, 4.8e-9])\n",
    "\n",
    "        ax2.plot(phi_list, label='Phi')\n",
    "        ax2.set_title(f'Potential Energy')\n",
    "        if len(kin_list) > 50:\n",
    "            ax3.plot(kin_list[50:], label='Kinetic')\n",
    "        else:\n",
    "            ax3.plot(kin_list, label='Kinetic')\n",
    "        ax3.set_title(f'Kinetic Energy')\n",
    "\n",
    "        extent = ax1.get_window_extent().transformed(fig.dpi_scale_trans.inverted())\n",
    "        fig.savefig(path_new+f'/{iter}.png', bbox_inches=extent)\n",
    "\n",
    "        plt.legend()\n",
    "        plt.show()"
   ]
  },
  {
   "cell_type": "code",
   "execution_count": 61,
   "metadata": {},
   "outputs": [
    {
     "data": {
      "text/plain": [
       "array([ 82,  83, 101, 102, 103, 122, 151, 171, 172, 183, 202, 203, 222,\n",
       "       297, 317, 318, 364, 384, 385])"
      ]
     },
     "execution_count": 61,
     "metadata": {},
     "output_type": "execute_result"
    }
   ],
   "source": [
    "r_c = 2**(1/6)\n",
    "great_ind = []\n",
    "for i, j, k in combinations(range(len(coord)), 3):\n",
    "    a1, a2, a3 = coord[i], coord[j], coord[k]\n",
    "    if (abs_dis(a1, a2, r_c) < 0.0898\n",
    "    and abs_dis(a1, a3, r_c) < 0.0898\n",
    "    and abs_dis(a2, a3, r_c) < 0.0898):\n",
    "        great_ind.append([i, j, k])\n",
    "\n",
    "great_ind = np.unique(np.array(great_ind).ravel())\n",
    "great_ind"
   ]
  },
  {
   "cell_type": "code",
   "execution_count": 62,
   "metadata": {},
   "outputs": [
    {
     "data": {
      "image/png": "[encoded data removed]",
      "text/plain": [
       "<Figure size 576x576 with 1 Axes>"
      ]
     },
     "metadata": {
      "needs_background": "light"
     },
     "output_type": "display_data"
    }
   ],
   "source": [
    "e_coord = coord[great_ind]\n",
    "fig, ax = plt.subplots(figsize=(8, 8))\n",
    "plt.scatter(coord[:,0], coord[:,1])\n",
    "plt.scatter(e_coord[:,0], e_coord[:,1])\n",
    "\n",
    "plt.show()"
   ]
  },
  {
   "cell_type": "code",
   "execution_count": 49,
   "metadata": {},
   "outputs": [],
   "source": [
    "coord_ = []\n",
    "for j in range(x_extend):\n",
    "    for k in range(y_extend):\n",
    "        rand1 = np.random.rand()*1/4-1/8\n",
    "        rand2 = np.random.rand()*1/4-1/8\n",
    "        coord_.append([init_dis*j+rand1, init_dis*k+rand2])\n",
    "        #*Seperate the matrix into several bounded regions\n",
    "        # region.append([1.12*(j-1/2), 1.12*(j+1/2), 1.12*(k-1/2), 1.12*(k+1/2)])\n",
    "\n",
    "coord_ = np.array(coord_)"
   ]
  }
 ],
 "metadata": {
  "kernelspec": {
   "display_name": "Python 3.9.7 ('base')",
   "language": "python",
   "name": "python3"
  },
  "language_info": {
   "codemirror_mode": {
    "name": "ipython",
    "version": 3
   },
   "file_extension": ".py",
   "mimetype": "text/x-python",
   "name": "python",
   "nbconvert_exporter": "python",
   "pygments_lexer": "ipython3",
   "version": "3.9.7"
  },
  "orig_nbformat": 4,
  "vscode": {
   "interpreter": {
    "hash": "68475d8e8ba7c27bff5b0c1dcce162ecdafd8f583568d2d03f898fe272d0ccc7"
   }
  }
 },
 "nbformat": 4,
 "nbformat_minor": 2
}
