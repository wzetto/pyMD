{
 "cells": [
  {
   "cell_type": "code",
   "execution_count": null,
   "metadata": {},
   "outputs": [],
   "source": [
    "    #*0 as centr atom\n",
    "    a0x = r1_grad*(x2-x0)/r1/m + r2_grad*(x1-x0)/r2/m + r3_grad*(x3-x0)/r3/m\n",
    "    a0y = r1_grad*(y2-y0)/r1/m + r2_grad*(y1-y0)/r2/m + r3_grad*(y3-y0)/r3/m\n",
    "\n",
    "    #*1 as centr atom\n",
    "    a1x = r2_grad*(x0-x1)/r2/m + r4_grad*(x2-x1)/r4/m + r6_grad*(x3-x1)/r6/m\n",
    "    a1y = r2_grad*(y0-y1)/r2/m + r4_grad*(y2-y1)/r4/m + r6_grad*(y3-y1)/r6/m\n",
    "\n",
    "    #*2 as centr atom\n",
    "    a2x = r1_grad*(x0-x2)/r1/m + r4_grad*(x1-x2)/r4/m + r5_grad*(x3-x2)/r5/m\n",
    "    a2y = r1_grad*(y0-y2)/r1/m + r4_grad*(y1-y2)/r4/m + r5_grad*(y3-y2)/r5/m\n",
    "\n",
    "    #*3 as centr atom\n",
    "    a3x = r3_grad*(x0-x3)/r3/m + r5_grad*(x2-x3)/r5/m + r6_grad*(x1-x3)/r6/m\n",
    "    a3y = r3_grad*(y0-y3)/r3/m + r5_grad*(y2-y3)/r5/m + r6_grad*(y1-y3)/r6/m"
   ]
  }
 ],
 "metadata": {
  "kernelspec": {
   "display_name": "Python 3.10.6 64-bit",
   "language": "python",
   "name": "python3"
  },
  "language_info": {
   "name": "python",
   "version": "3.10.6"
  },
  "orig_nbformat": 4,
  "vscode": {
   "interpreter": {
    "hash": "916dbcbb3f70747c44a77c7bcd40155683ae19c65e1c03b4aa3499c5328201f1"
   }
  }
 },
 "nbformat": 4,
 "nbformat_minor": 2
}
